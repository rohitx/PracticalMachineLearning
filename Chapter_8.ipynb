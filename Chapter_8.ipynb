{
 "metadata": {
  "name": "",
  "signature": "sha256:ec9557c29b1ab1ebf00cced66bce3ccf7c9b3be872af6790bbaf2a9bb856e10f"
 },
 "nbformat": 3,
 "nbformat_minor": 0,
 "worksheets": [
  {
   "cells": [
    {
     "cell_type": "markdown",
     "metadata": {},
     "source": [
      "#Chapter 8: Recommendations#\n",
      "\n",
      "Recommendations are automated system that provide each user with a personalized list of suggestions (be it a list of products to purchase, features to use, or new connections). The field of recommendation based on consumer inputs is often called collaborative filtering, as the users collaborate through the system to find the best items for each other. \n",
      "\n",
      "In the first part we will see how we can use past product ratings from consumers to predict new ratings. We start with a few ideas that are helpful and then combine all of them. When combining, we use regression to learn the best way in which they can be combined. This will also allow us to explore a generic concept in machine learning: ensemble learning. \n",
      "\n",
      "In the second part of this chapter, we will look at a different way of learning recommendations: basket analysis. Unlike the case in which we have numeric ratings, in the basket analysis setting, all we have is information about the shopping baskets, that is, what items were bought together. The goal is to learn about recommendations. This is similar to what we have seen in Amazon or elsewhere: \"people who bought X also bought Y\". We will develop a similar feature of our own. "
     ]
    }
   ],
   "metadata": {}
  }
 ]
}